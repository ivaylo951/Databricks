{
 "cells": [
  {
   "cell_type": "code",
   "execution_count": 0,
   "metadata": {
    "application/vnd.databricks.v1+cell": {
     "cellMetadata": {
      "byteLimit": 2048000,
      "rowLimit": 10000
     },
     "inputWidgets": {},
     "nuid": "14556836-71be-424c-a7c8-e8ed41df14a4",
     "showTitle": false,
     "tableResultSettingsMap": {},
     "title": ""
    }
   },
   "outputs": [],
   "source": [
    "# secrets = dbutils.secrets.list(\"dbc-training-scope\")\n",
    "# for secret in secrets:\n",
    "#     print(secret.key)\n",
    "#"
   ]
  },
  {
   "cell_type": "code",
   "execution_count": 0,
   "metadata": {
    "application/vnd.databricks.v1+cell": {
     "cellMetadata": {
      "byteLimit": 2048000,
      "rowLimit": 10000
     },
     "inputWidgets": {},
     "nuid": "daa4332a-53f4-4f6f-b2ac-c2135505be3c",
     "showTitle": false,
     "tableResultSettingsMap": {},
     "title": ""
    }
   },
   "outputs": [],
   "source": [
    "# for letter in dbutils.secrets.get(\"dbc-training-scope\",\"MySqlChampionsLeaguePassword\"):\n",
    "#    print(letter)"
   ]
  },
  {
   "cell_type": "code",
   "execution_count": 0,
   "metadata": {
    "application/vnd.databricks.v1+cell": {
     "cellMetadata": {
      "byteLimit": 2048000,
      "rowLimit": 10000
     },
     "inputWidgets": {},
     "nuid": "897aca6f-2dcd-4360-8c90-16b33791fe14",
     "showTitle": false,
     "tableResultSettingsMap": {},
     "title": ""
    }
   },
   "outputs": [],
   "source": [
    "import requests\n",
    "import json\n",
    "from pyspark.sql.functions import current_timestamp, lit\n",
    "from pyspark.sql.types import StructType, StructField, IntegerType, StringType, TimestampType, MapType, ArrayType\n",
    "\n",
    "# Widget: Source system\n",
    "dbutils.widgets.dropdown(\"src_system\", \"REST API\", [\"REST API\", \"MySQL\"], \"Select Source System\")\n",
    "src_system = dbutils.widgets.get(\"src_system\")\n",
    "\n",
    "def get_secrets(scope, username_key, password_key):\n",
    "    \"\"\"\n",
    "    Retrieve the username and password from Databricks secrets scope.\n",
    "    \"\"\"\n",
    "    username = dbutils.secrets.get(scope, username_key)\n",
    "    password = dbutils.secrets.get(scope, password_key)\n",
    "    return username, password\n",
    "\n",
    "def get_token(username, password):\n",
    "    \"\"\"\n",
    "    Authenticate and retrieve the access token using the provided username and password.\n",
    "    \"\"\"\n",
    "    login_url = \"http://detrainingbg.adastragrp.com:443/login\"\n",
    "    payload = {\n",
    "        \"username\": username,\n",
    "        \"password\": password\n",
    "    }\n",
    "    headers = {\n",
    "        \"Content-Type\": \"application/json\"\n",
    "    }\n",
    "\n",
    "    response = requests.post(login_url, headers=headers, data=json.dumps(payload))\n",
    "\n",
    "    if response.status_code == 200:\n",
    "        bearer_token = response.json().get(\"access_token\")\n",
    "        return bearer_token\n",
    "    else:\n",
    "        print(f\"Login failed. Status code: {response.status_code}\")\n",
    "        print(response.text)\n",
    "        return None\n",
    "\n",
    "def fetch_teams(bearer_token):\n",
    "    \"\"\"\n",
    "    Fetch teams using the provided bearer token.\n",
    "    \"\"\"\n",
    "    teams_url = \"http://detrainingbg.adastragrp.com:443/teams\"\n",
    "\n",
    "    headers = {\n",
    "        \"Authorization\": f\"Bearer {bearer_token}\"\n",
    "    }\n",
    "\n",
    "    all_teams = []\n",
    "    page_cursor = None\n",
    "\n",
    "    while True:\n",
    "        params = {\"page_cursor\": page_cursor} if page_cursor else {}\n",
    "        response = requests.get(teams_url, headers=headers, params=params)\n",
    "\n",
    "        if response.status_code != 200:\n",
    "            print(f\"Failed to retrieve teams. Status code: {response.status_code}\")\n",
    "            print(response.text)\n",
    "            break\n",
    "        \n",
    "        data = response.json()\n",
    "\n",
    "        # Collect teams from the current page\n",
    "        teams = data.get(\"teams\") \n",
    "        all_teams.extend(teams)\n",
    "\n",
    "        # Get next page cursor \n",
    "        page_cursor = data.get(\"page_cursor\")\n",
    "\n",
    "        if not page_cursor:\n",
    "            break  # no more pages\n",
    "\n",
    "    teams_schema = StructType([\n",
    "    StructField(\"id_team\", IntegerType(), True),\n",
    "    StructField(\"country\", StringType(), True),\n",
    "    StructField(\"team\", StringType(), True),\n",
    "    StructField(\"logo\", StringType(), True)\n",
    "    ])\n",
    "    teams_df = spark.createDataFrame(all_teams, schema=teams_schema)\n",
    "\n",
    "    save_to_bronze(teams_df, \"teams\")\n",
    "\n",
    "    return all_teams    \n",
    "\n",
    "def fetch_players(bearer_token, teams):\n",
    "    \"\"\"\n",
    "    Fetch players using the provided bearer token and iterate through the teams to get the players from that team.\n",
    "    \"\"\"\n",
    "    players_url = \"http://detrainingbg.adastragrp.com:443/players\"\n",
    "    headers = {\"Authorization\": f\"Bearer {bearer_token}\"}\n",
    "    all_players = []\n",
    "\n",
    "    for team in teams:\n",
    "        team_id = team.get(\"id_team\")\n",
    "        if not team_id:\n",
    "            continue\n",
    "\n",
    "        params = {\"id_team\": team_id}\n",
    "        response = requests.get(players_url, headers=headers, params=params)\n",
    "\n",
    "        if response.status_code != 200:\n",
    "            print(f\"Failed to retrieve players for team {team_id}\")\n",
    "            continue\n",
    "\n",
    "        players = response.json()\n",
    "        for p in players:\n",
    "            p[\"id_team\"] = team_id\n",
    "            all_players.append(p)\n",
    "\n",
    "    # Define Spark schema for players\n",
    "    player_schema = StructType([\n",
    "        StructField(\"id_player\", IntegerType(), True),\n",
    "        StructField(\"player_name\", StringType(), True),\n",
    "        StructField(\"nationality\", StringType(), True),\n",
    "        StructField(\"field_position\", StringType(), True),\n",
    "        StructField(\"position\", StringType(), True),\n",
    "        StructField(\"player_image\", StringType(), True),\n",
    "        StructField(\"bio\", MapType(StringType(), StringType()), True),\n",
    "        StructField(\"match_statistics\", ArrayType(MapType(StringType(), StringType())), True),\n",
    "        StructField(\"id_team\", IntegerType(), True)\n",
    "    ])\n",
    "\n",
    "    players_df = spark.createDataFrame(all_players, schema=player_schema)\n",
    "\n",
    "    save_to_bronze(players_df, \"players\")\n",
    "\n",
    "def fetch_mysql_data(username, password):\n",
    "    tables = [\"goals_data\", \"attempts_data\", \"attacking_data\"]\n",
    "\n",
    "    for table in tables:\n",
    "        df = (spark.read\n",
    "            .format(\"mysql\")\n",
    "            .option(\"dbtable\", table)\n",
    "            .option(\"host\", \"detrainingbg.adastragrp.com\")\n",
    "            .option(\"port\", \"3306\")\n",
    "            .option(\"database\", \"champions_league\")\n",
    "            .option(\"user\", username)\n",
    "            .option(\"password\", password)\n",
    "            .load()\n",
    "        )\n",
    "\n",
    "        save_to_bronze(df, table)\n",
    "\n",
    "def save_to_bronze(df, table_name):\n",
    "    \"\"\"\n",
    "    Save the data to the bronze tables.\n",
    "    \"\"\"\n",
    "\n",
    "    df = df.withColumn(\"load_ts\", current_timestamp()) \\\n",
    "                           .withColumn(\"src_system\", lit(src_system))\n",
    "    \n",
    "    # Overwrite the table in the specified schema\n",
    "    df.write.format(\"delta\") \\\n",
    "        .mode(\"overwrite\") \\\n",
    "        .option(\"overwriteSchema\", \"true\") \\\n",
    "        .saveAsTable(f\"bronze.training_io.{table_name}\")\n",
    "\n",
    "def main():\n",
    "\n",
    "    # Get secrets\n",
    "    APIusername, APIpassword = get_secrets(\"dbc-training-scope\", \"FastAPIChampionsLeagueUsername\", \"FastAPIChampionsLeaguePassword\")\n",
    "    MySQLusername, MySQLpassword = get_secrets(\"dbc-training-scope\", \"MySqlChampionsLeagueUser\", \"MySqlChampionsLeaguePassword\")\n",
    "    \n",
    "    # Login and get bearer token\n",
    "    bearer_token = get_token(APIusername, APIpassword)\n",
    "    if bearer_token:\n",
    "        # Fetch teams\n",
    "        teams = fetch_teams(bearer_token)\n",
    "        fetch_players(bearer_token, teams)\n",
    "    \n",
    "    fetch_mysql_data(MySQLusername, MySQLpassword)\n",
    "\n",
    "if __name__ == \"__main__\":\n",
    "    main()\n"
   ]
  }
 ],
 "metadata": {
  "application/vnd.databricks.v1+notebook": {
   "computePreferences": null,
   "dashboards": [],
   "environmentMetadata": {
    "base_environment": "",
    "environment_version": "2"
   },
   "inputWidgetPreferences": null,
   "language": "python",
   "notebookMetadata": {
    "mostRecentlyExecutedCommandWithImplicitDF": {
     "commandId": -1,
     "dataframes": [
      "_sqldf"
     ]
    },
    "pythonIndentUnit": 4
   },
   "notebookName": "Bronze layer",
   "widgets": {
    "src_system": {
     "currentValue": "REST API",
     "nuid": "303f1c2b-79a3-421d-93ee-bec89b2f1798",
     "typedWidgetInfo": {
      "autoCreated": false,
      "defaultValue": "REST API",
      "label": "Select Source System",
      "name": "src_system",
      "options": {
       "widgetDisplayType": "Dropdown",
       "choices": [
        "REST API",
        "MySQL"
       ],
       "fixedDomain": true,
       "multiselect": false
      },
      "parameterDataType": "String"
     },
     "widgetInfo": {
      "widgetType": "dropdown",
      "defaultValue": "REST API",
      "label": "Select Source System",
      "name": "src_system",
      "options": {
       "widgetType": "dropdown",
       "autoCreated": null,
       "choices": [
        "REST API",
        "MySQL"
       ]
      }
     }
    }
   }
  },
  "language_info": {
   "name": "python"
  }
 },
 "nbformat": 4,
 "nbformat_minor": 0
}
