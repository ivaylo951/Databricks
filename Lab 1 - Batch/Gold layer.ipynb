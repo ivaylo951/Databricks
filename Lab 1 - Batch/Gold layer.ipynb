{
 "cells": [
  {
   "cell_type": "code",
   "execution_count": 0,
   "metadata": {
    "application/vnd.databricks.v1+cell": {
     "cellMetadata": {
      "byteLimit": 2048000,
      "rowLimit": 10000
     },
     "inputWidgets": {},
     "nuid": "19763949-467b-40c3-9ddc-976ee5b753f5",
     "showTitle": false,
     "tableResultSettingsMap": {},
     "title": ""
    }
   },
   "outputs": [],
   "source": [
    "from pyspark.sql import SparkSession\n",
    "from pyspark.sql.functions import col, sum\n",
    "\n",
    "spark = SparkSession.builder.getOrCreate()\n",
    "\n",
    "# Define silver and gold paths\n",
    "silver_catalog = \"silver\"\n",
    "silver_schema = \"training_io\"\n",
    "gold_catalog = \"gold\"\n",
    "gold_schema = \"training_io\"\n",
    "\n",
    "# Define table names\n",
    "silver_players = f\"{silver_catalog}.{silver_schema}.players\"\n",
    "silver_teams = f\"{silver_catalog}.{silver_schema}.teams\"\n",
    "silver_goals = f\"{silver_catalog}.{silver_schema}.goals\"\n",
    "gold_view = f\"{gold_catalog}.{gold_schema}.vw_player_summary\"\n",
    "\n",
    "# Read silver tables\n",
    "players_df = spark.read.table(silver_players)\n",
    "teams_df = spark.read.table(silver_teams)\n",
    "goals_df = spark.read.table(silver_goals)\n",
    "\n",
    "# Join and aggregate\n",
    "gold_view_df = (\n",
    "    players_df.alias(\"p\")\n",
    "    .join(teams_df.alias(\"t\"), col(\"p.id_team\") == col(\"t.id_team\"), \"left\")\n",
    "    .join(goals_df.alias(\"g\"), col(\"p.id_player\") == col(\"g.id_player\"), \"left\")\n",
    "    .groupBy(\n",
    "        col(\"p.player_name\"),\n",
    "        col(\"p.nationality\"),\n",
    "        col(\"p.field_position\"),\n",
    "        col(\"p.age\"),\n",
    "        col(\"t.team\"),\n",
    "        col(\"t.country\")\n",
    "    )\n",
    "    .agg(\n",
    "        sum(\"g.goals\").alias(\"total_goals\"),\n",
    "        sum(\"g.penalties_scored\").alias(\"total_penalties\")\n",
    "    )\n",
    ")\n",
    "\n",
    "# Create the persistent view directly from the DataFrame\n",
    "gold_view_df.write.saveAsTable(gold_view, mode=\"overwrite\")"
   ]
  }
 ],
 "metadata": {
  "application/vnd.databricks.v1+notebook": {
   "computePreferences": null,
   "dashboards": [],
   "environmentMetadata": {
    "base_environment": "",
    "environment_version": "2"
   },
   "inputWidgetPreferences": null,
   "language": "python",
   "notebookMetadata": {
    "mostRecentlyExecutedCommandWithImplicitDF": {
     "commandId": 5517642823878092,
     "dataframes": [
      "_sqldf"
     ]
    },
    "pythonIndentUnit": 4
   },
   "notebookName": "Gold layer",
   "widgets": {}
  },
  "language_info": {
   "name": "python"
  }
 },
 "nbformat": 4,
 "nbformat_minor": 0
}
