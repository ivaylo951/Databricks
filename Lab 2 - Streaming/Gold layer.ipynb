{
 "cells": [
  {
   "cell_type": "code",
   "execution_count": 0,
   "metadata": {
    "application/vnd.databricks.v1+cell": {
     "cellMetadata": {
      "byteLimit": 2048000,
      "rowLimit": 10000
     },
     "inputWidgets": {},
     "nuid": "ec534d8b-ca55-448f-8c38-d0cee97fd1fe",
     "showTitle": false,
     "tableResultSettingsMap": {},
     "title": ""
    }
   },
   "outputs": [],
   "source": [
    "# Libraries\n",
    "from pyspark.sql import DataFrame\n",
    "from pyspark.sql.functions import sum"
   ]
  },
  {
   "cell_type": "code",
   "execution_count": 0,
   "metadata": {
    "application/vnd.databricks.v1+cell": {
     "cellMetadata": {
      "byteLimit": 2048000,
      "rowLimit": 10000
     },
     "inputWidgets": {},
     "nuid": "d16ea02c-84f7-4b09-9dd9-249cafe8ce86",
     "showTitle": false,
     "tableResultSettingsMap": {},
     "title": ""
    }
   },
   "outputs": [],
   "source": [
    "# Variables\n",
    "silver_table = 'silver.training_io.rt_marketing'\n",
    "gold_table = 'gold.training_io.rt_marketing'\n",
    "checkpoint_path = '/Volumes/gold/checkpoints/realtime'"
   ]
  },
  {
   "cell_type": "code",
   "execution_count": 0,
   "metadata": {
    "application/vnd.databricks.v1+cell": {
     "cellMetadata": {
      "byteLimit": 2048000,
      "implicitDf": true,
      "rowLimit": 10000
     },
     "inputWidgets": {},
     "nuid": "e73e56f6-636b-4348-8a41-06d01d28b94d",
     "showTitle": false,
     "tableResultSettingsMap": {},
     "title": ""
    }
   },
   "outputs": [],
   "source": [
    "%sql\n",
    "CREATE TABLE IF NOT EXISTS gold.training_io.rt_marketing\n",
    "(\n",
    "  movie_id STRING,\n",
    "  title STRING,\n",
    "  sum_duration DOUBLE\n",
    ")\n",
    "USING DELTA"
   ]
  },
  {
   "cell_type": "code",
   "execution_count": 0,
   "metadata": {
    "application/vnd.databricks.v1+cell": {
     "cellMetadata": {
      "byteLimit": 2048000,
      "rowLimit": 10000
     },
     "inputWidgets": {},
     "nuid": "f48f4d59-2a3b-4974-9e5b-23498f8ab757",
     "showTitle": false,
     "tableResultSettingsMap": {},
     "title": ""
    }
   },
   "outputs": [],
   "source": [
    "def read_silver_table() -> DataFrame:\n",
    "    \"\"\"\n",
    "    Reads the silver Delta table as a streaming DataFrame.\n",
    "    Returns:\n",
    "        DataFrame\n",
    "    \"\"\"\n",
    "    return (\n",
    "        spark.readStream\n",
    "        .format(\"delta\")\n",
    "        .option(\"ignoreChanges\", \"true\")\n",
    "        .table(silver_table)\n",
    "    )\n",
    "\n",
    "def aggregate_duration(df: DataFrame) -> DataFrame:\n",
    "    \"\"\"\n",
    "    Aggregates total duration per movie_id and title.\n",
    "    Args:\n",
    "        df: DataFrame\n",
    "    Returns:\n",
    "        DataFrame\n",
    "    \"\"\"\n",
    "    return (\n",
    "        df.groupBy(\"movie_id\", \"title\")\n",
    "            .agg(sum(\"duration\").alias(\"sum_duration\"))\n",
    "    )\n",
    "\n",
    "def write_to_gold_table(df: DataFrame) -> None:\n",
    "    \"\"\"\n",
    "    Writes the aggregated DataFrame to the gold Delta table using streaming.\n",
    "    Args:\n",
    "        df: DataFrame\n",
    "    \"\"\"\n",
    "    (\n",
    "        df.writeStream\n",
    "        .format(\"delta\")\n",
    "        .outputMode(\"complete\")\n",
    "        .option(\"checkpointLocation\", checkpoint_path)\n",
    "        .trigger(processingTime=\"1 minute\")\n",
    "        .table(gold_table)\n",
    "    )\n"
   ]
  },
  {
   "cell_type": "code",
   "execution_count": 0,
   "metadata": {
    "application/vnd.databricks.v1+cell": {
     "cellMetadata": {
      "byteLimit": 2048000,
      "rowLimit": 10000
     },
     "inputWidgets": {},
     "nuid": "4d911a71-100a-4789-a119-c7b0faca4b32",
     "showTitle": false,
     "tableResultSettingsMap": {},
     "title": ""
    }
   },
   "outputs": [],
   "source": [
    "def main():\n",
    "    # Streaming read from silver\n",
    "    silver_df = read_silver_table()\n",
    "\n",
    "    # Aggregate\n",
    "    silver_df = aggregate_duration(silver_df)\n",
    "\n",
    "    # Write to gold\n",
    "    write_to_gold_table(silver_df)\n",
    "\n",
    "if __name__ == \"__main__\":\n",
    "    main()"
   ]
  }
 ],
 "metadata": {
  "application/vnd.databricks.v1+notebook": {
   "computePreferences": null,
   "dashboards": [],
   "environmentMetadata": {
    "base_environment": "",
    "environment_version": "2"
   },
   "inputWidgetPreferences": null,
   "language": "python",
   "notebookMetadata": {
    "mostRecentlyExecutedCommandWithImplicitDF": {
     "commandId": 4901314288250572,
     "dataframes": [
      "_sqldf"
     ]
    },
    "pythonIndentUnit": 4
   },
   "notebookName": "Gold layer",
   "widgets": {}
  },
  "language_info": {
   "name": "python"
  }
 },
 "nbformat": 4,
 "nbformat_minor": 0
}
